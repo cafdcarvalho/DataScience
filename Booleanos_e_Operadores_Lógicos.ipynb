{
  "nbformat": 4,
  "nbformat_minor": 0,
  "metadata": {
    "colab": {
      "name": "Booleanos e Operadores Lógicos",
      "provenance": [],
      "collapsed_sections": [],
      "include_colab_link": true
    },
    "kernelspec": {
      "name": "python3",
      "display_name": "Python 3"
    }
  },
  "cells": [
    {
      "cell_type": "markdown",
      "metadata": {
        "id": "view-in-github",
        "colab_type": "text"
      },
      "source": [
        "<a href=\"https://colab.research.google.com/github/cafdcarvalho/DataScience/blob/master/Booleanos_e_Operadores_L%C3%B3gicos.ipynb\" target=\"_parent\"><img src=\"https://colab.research.google.com/assets/colab-badge.svg\" alt=\"Open In Colab\"/></a>"
      ]
    },
    {
      "cell_type": "markdown",
      "metadata": {
        "id": "uot0dPiSrjhg"
      },
      "source": [
        "<img alt=\"Colaboratory logo\" width=\"15%\" src=\"https://raw.githubusercontent.com/carlosfab/escola-data-science/master/img/novo_logo_bg_claro.png\">\n",
        "\n",
        "#### **Python do Zero**\n",
        "*by [sigmoidal.ai](https://sigmoidal.ai)*\n",
        "\n",
        "---\n",
        "\n",
        "## Booleanos\n",
        "\n",
        "Nesta aula veremos sobre o tipo de dado chamado **booleano**, ou ***bool***, além dos operadores relacionais e dos operadores lógicos.\n",
        "\n",
        "\n",
        "<center><img width=\"45%\" src=\"https://image.freepik.com/free-vector/programmer-s-workplace-writing-code-laptop_80328-238.jpg\"></center>\n",
        "\n",
        "São extremamente importantes, presentes em qualquer lógico de qualquer programa de computador.\n",
        "\n"
      ]
    },
    {
      "cell_type": "markdown",
      "metadata": {
        "id": "Ubz_tFXksVeu"
      },
      "source": [
        "O tipo `bool` é um dado que pode possuir os valores `True` ou `False`:\n",
        "\n",
        "* `True` - equivalente ao número 1\n",
        "* `False` - equivalente ao número 0"
      ]
    },
    {
      "cell_type": "code",
      "metadata": {
        "id": "nLOr8ErzsbXb",
        "colab": {
          "base_uri": "https://localhost:8080/",
          "height": 35
        },
        "outputId": "3ca50aa4-d590-4c5c-b3ee-5de76c72de98"
      },
      "source": [
        "# ver o tipo de True\n",
        "type(True)"
      ],
      "execution_count": null,
      "outputs": [
        {
          "output_type": "execute_result",
          "data": {
            "text/plain": [
              "bool"
            ]
          },
          "metadata": {
            "tags": []
          },
          "execution_count": 3
        }
      ]
    },
    {
      "cell_type": "code",
      "metadata": {
        "id": "Wi1pKgeXWXH8",
        "outputId": "f982becd-e6ba-4a54-b7ba-0fe6c93a6507",
        "colab": {
          "base_uri": "https://localhost:8080/"
        }
      },
      "source": [
        "type(True)"
      ],
      "execution_count": 1,
      "outputs": [
        {
          "output_type": "execute_result",
          "data": {
            "text/plain": [
              "bool"
            ]
          },
          "metadata": {
            "tags": []
          },
          "execution_count": 1
        }
      ]
    },
    {
      "cell_type": "code",
      "metadata": {
        "id": "7ckrSOw2tPip",
        "colab": {
          "base_uri": "https://localhost:8080/",
          "height": 35
        },
        "outputId": "c65baa0a-d0cd-4abb-8f95-01470c22d792"
      },
      "source": [
        "# ver o tipo de False\n",
        "type(False)"
      ],
      "execution_count": null,
      "outputs": [
        {
          "output_type": "execute_result",
          "data": {
            "text/plain": [
              "bool"
            ]
          },
          "metadata": {
            "tags": []
          },
          "execution_count": 4
        }
      ]
    },
    {
      "cell_type": "code",
      "metadata": {
        "id": "jCO86V-BWiTZ",
        "outputId": "a05b52e2-72a3-49d5-dd82-750ebaf2cac8",
        "colab": {
          "base_uri": "https://localhost:8080/"
        }
      },
      "source": [
        "type(False)"
      ],
      "execution_count": 2,
      "outputs": [
        {
          "output_type": "execute_result",
          "data": {
            "text/plain": [
              "bool"
            ]
          },
          "metadata": {
            "tags": []
          },
          "execution_count": 2
        }
      ]
    },
    {
      "cell_type": "markdown",
      "metadata": {
        "id": "KoNsUflfsNHH"
      },
      "source": [
        "## Operadores Relacionais\n",
        "\n",
        "Os Operadores Relacionais server para você fazer comparações entre valores ou variáveis.\n",
        "\n",
        "Após avaliar uma expressão, os Operadores Relacionais retornam um dado do tipo `bool`, ou seja, `True` ou `False`. Veja os 6 operadores:\n",
        "\n",
        "\n",
        "| **OPERADOR** | **DESCRIÇÃO**    |\n",
        "|:------------:|:----------------:|\n",
        "| <            | Menor que        |\n",
        "| >            | Maior que        |\n",
        "| <=           | Menor or igual a |\n",
        "| >=           | Maior ou igual a |\n",
        "| ==           | Igual a          |\n",
        "| \\!=          | Diferente de     |"
      ]
    },
    {
      "cell_type": "code",
      "metadata": {
        "id": "H2QxVuD4sbzY",
        "colab": {
          "base_uri": "https://localhost:8080/",
          "height": 35
        },
        "outputId": "4f9fddda-4398-4662-f238-b90029a3a44b"
      },
      "source": [
        "# operador relacional maior que\n",
        "4 > 5"
      ],
      "execution_count": null,
      "outputs": [
        {
          "output_type": "execute_result",
          "data": {
            "text/plain": [
              "False"
            ]
          },
          "metadata": {
            "tags": []
          },
          "execution_count": 9
        }
      ]
    },
    {
      "cell_type": "code",
      "metadata": {
        "id": "Q6YqLSUdvHaj",
        "colab": {
          "base_uri": "https://localhost:8080/",
          "height": 35
        },
        "outputId": "1e8f6c42-00f6-4c9d-9c72-39337f23b2ba"
      },
      "source": [
        "# operador relacional igual a \n",
        "4 == 4"
      ],
      "execution_count": null,
      "outputs": [
        {
          "output_type": "execute_result",
          "data": {
            "text/plain": [
              "True"
            ]
          },
          "metadata": {
            "tags": []
          },
          "execution_count": 10
        }
      ]
    },
    {
      "cell_type": "markdown",
      "metadata": {
        "id": "lgvsc1HCoPGx"
      },
      "source": [
        "Podemos utilizar esses operadores para `strings` também, como no exemplo abaixo.\n",
        "\n",
        "É importante ressaltar também que o Python é ***case sensitive***, o que significa que ele diferencia minúsculas de maiúsculas, portanto `x` não é o mesmo que `X`."
      ]
    },
    {
      "cell_type": "code",
      "metadata": {
        "id": "Ko0UgNREvHQX",
        "colab": {
          "base_uri": "https://localhost:8080/",
          "height": 35
        },
        "outputId": "e8864f84-72e5-473e-fdf4-69564ed218a4"
      },
      "source": [
        "# operador relacional com strings\n",
        "'texto' == 'TEXTO'"
      ],
      "execution_count": null,
      "outputs": [
        {
          "output_type": "execute_result",
          "data": {
            "text/plain": [
              "False"
            ]
          },
          "metadata": {
            "tags": []
          },
          "execution_count": 13
        }
      ]
    },
    {
      "cell_type": "markdown",
      "metadata": {
        "id": "O-nM1UgtoqLi"
      },
      "source": [
        "Quando utilizamos operadores booleanos, o `True` assume o valor `1`, e `False`, `0`.\n",
        "\n",
        "Podemos conferir isso com o código abaixo:"
      ]
    },
    {
      "cell_type": "code",
      "metadata": {
        "id": "GGQ1HZBavHHZ",
        "colab": {
          "base_uri": "https://localhost:8080/",
          "height": 35
        },
        "outputId": "8b68011a-a092-45e7-f8ed-b8fd738b5709"
      },
      "source": [
        "True == 1"
      ],
      "execution_count": null,
      "outputs": [
        {
          "output_type": "execute_result",
          "data": {
            "text/plain": [
              "True"
            ]
          },
          "metadata": {
            "tags": []
          },
          "execution_count": 14
        }
      ]
    },
    {
      "cell_type": "code",
      "metadata": {
        "id": "lO_xWaR7vG-9",
        "colab": {
          "base_uri": "https://localhost:8080/",
          "height": 35
        },
        "outputId": "7464ce78-393c-4bc8-93d7-bd40f91f724d"
      },
      "source": [
        "False == 0"
      ],
      "execution_count": null,
      "outputs": [
        {
          "output_type": "execute_result",
          "data": {
            "text/plain": [
              "True"
            ]
          },
          "metadata": {
            "tags": []
          },
          "execution_count": 16
        }
      ]
    },
    {
      "cell_type": "markdown",
      "metadata": {
        "id": "xbNv_V2xpLdo"
      },
      "source": [
        "Podemos utilizar de operadores booleanos para diferentes tarefas, que podem ter diferentes níveis de complexidade."
      ]
    },
    {
      "cell_type": "code",
      "metadata": {
        "id": "_xKakPKgvG24",
        "colab": {
          "base_uri": "https://localhost:8080/",
          "height": 35
        },
        "outputId": "e8ccda3d-5c66-4598-979e-4b8b4b6ab046"
      },
      "source": [
        "2 ** 10 >= 100"
      ],
      "execution_count": null,
      "outputs": [
        {
          "output_type": "execute_result",
          "data": {
            "text/plain": [
              "True"
            ]
          },
          "metadata": {
            "tags": []
          },
          "execution_count": 17
        }
      ]
    },
    {
      "cell_type": "markdown",
      "metadata": {
        "id": "_VNFzmZEpTWU"
      },
      "source": [
        "Ao usar o comparativo \"diferente de\", estamos buscando igualdade total, ou seja, um **2** do tipo `int` e um **2** do tipo `string` não são considerados iguais."
      ]
    },
    {
      "cell_type": "code",
      "metadata": {
        "id": "gLEf9jmRvthu",
        "colab": {
          "base_uri": "https://localhost:8080/",
          "height": 35
        },
        "outputId": "06643395-2604-41cb-af3a-0713b709cfb7"
      },
      "source": [
        "2 != '2'"
      ],
      "execution_count": null,
      "outputs": [
        {
          "output_type": "execute_result",
          "data": {
            "text/plain": [
              "True"
            ]
          },
          "metadata": {
            "tags": []
          },
          "execution_count": 27
        }
      ]
    },
    {
      "cell_type": "markdown",
      "metadata": {
        "id": "0XqngY88sO4V"
      },
      "source": [
        "## Operadores Lógicos\n",
        "\n",
        "Os Operadores Lógicos são aqueles que permitem você unir várias expressões lógicas, várias comparações.\n",
        "\n",
        "Em *scripts* ou projetos de *Data Science* que você irá fazer, com certeza lidará com situações onde vai precisar avaliar várias condições ao mesmo tempo.\n",
        "\n",
        "Os três Operadores Lógicos que você precisa conhecer são:\n",
        "\n",
        "| **OPERADORES LÓGICOS** | **DESCRIÇÃO**                                         |\n",
        "|:----------------------:|:-----------------------------------------------------:|\n",
        "| and                    | Verifica se todas as expressões são True              |\n",
        "| or                     | Verifica se pelo menos uma expressão é verdadeira     |\n",
        "| not                    | Verifica a negação da expressão\\. Inverte o resultado |\n",
        "\n",
        "\n",
        "Com eles, podemos fazer diversas conferências, que serão muito úteis no nosso código, seja para trabalhar e limpar os dados, ou executar uma função em uma aplicação."
      ]
    },
    {
      "cell_type": "markdown",
      "metadata": {
        "id": "fZZhtoC7R-nR"
      },
      "source": [
        "### Operador lógico AND\n",
        "Quando usamos esse operador, queremos que **todas** as condições sejam verdadeiras. Caso alguma delas seja falsa, teremos `False` como resultado."
      ]
    },
    {
      "cell_type": "code",
      "metadata": {
        "id": "jK7ErHIWsSG3",
        "colab": {
          "base_uri": "https://localhost:8080/"
        },
        "outputId": "a7797112-7e20-4ce3-ea0b-f4c8b533141d"
      },
      "source": [
        "# verificar se todas as condições são atendidas\n",
        "idade = 23\n",
        "possui_habilitacao = True\n",
        "\n",
        "# permitir aluguel do carro?\n",
        "(idade >= 18) and (possui_habilitacao)"
      ],
      "execution_count": 3,
      "outputs": [
        {
          "output_type": "execute_result",
          "data": {
            "text/plain": [
              "True"
            ]
          },
          "metadata": {
            "tags": []
          },
          "execution_count": 3
        }
      ]
    },
    {
      "cell_type": "code",
      "metadata": {
        "id": "M4BnPhF3xqJE",
        "colab": {
          "base_uri": "https://localhost:8080/",
          "height": 35
        },
        "outputId": "bafeef76-8343-431e-8b07-13260d88c494"
      },
      "source": [
        "# verificar se todas as condições são atendidas\n",
        "idade = 17\n",
        "possui_habilitacao = True\n",
        "\n",
        "# permitir aluguel do carro?\n",
        "(idade >= 18) and (possui_habilitacao)"
      ],
      "execution_count": null,
      "outputs": [
        {
          "output_type": "execute_result",
          "data": {
            "text/plain": [
              "False"
            ]
          },
          "metadata": {
            "tags": []
          },
          "execution_count": 32
        }
      ]
    },
    {
      "cell_type": "markdown",
      "metadata": {
        "id": "9FWu4afJSNWB"
      },
      "source": [
        "### Operador OR\n",
        "Para o or, precisamos que **ao menos uma** das condições seja satisfeita."
      ]
    },
    {
      "cell_type": "code",
      "metadata": {
        "id": "_RukwDcxx56w",
        "colab": {
          "base_uri": "https://localhost:8080/",
          "height": 35
        },
        "outputId": "55557b10-39ca-4c86-9aa1-977344f6789e"
      },
      "source": [
        "# verificar se ao menos uma condição é atendida\n",
        "tempo_relacionamento = 3\n",
        "valor_da_compra = 300.50\n",
        "cartao_da_loja = False\n",
        "\n",
        "# fornecer desconto se uma das condições for verdadeira\n",
        "(tempo_relacionamento > 1) or (valor_da_compra > 500.00) or (cartao_da_loja)"
      ],
      "execution_count": null,
      "outputs": [
        {
          "output_type": "execute_result",
          "data": {
            "text/plain": [
              "True"
            ]
          },
          "metadata": {
            "tags": []
          },
          "execution_count": 33
        }
      ]
    },
    {
      "cell_type": "markdown",
      "metadata": {
        "id": "2tRPAf4uSXU4"
      },
      "source": [
        "### Operador NOT\n",
        "Ao usar esse operador, estamos verificando a negação da operação, ou seja, invertendo o resultado.\n",
        "\n",
        "Ou seja, ele retorna `False` caso o resultado seja `True`."
      ]
    },
    {
      "cell_type": "code",
      "metadata": {
        "id": "IAxVN1exy4HC",
        "colab": {
          "base_uri": "https://localhost:8080/"
        },
        "outputId": "7dc9db9b-210b-43fa-8b0a-634fbe4842af"
      },
      "source": [
        "# verificar se a criança pode entrar em um brinquedo do parque\n",
        "altura_crianca = 1.10\n",
        "\n",
        "# a criança pode entrar no brinquedo?\n",
        "not altura_crianca < 1.50"
      ],
      "execution_count": 5,
      "outputs": [
        {
          "output_type": "execute_result",
          "data": {
            "text/plain": [
              "False"
            ]
          },
          "metadata": {
            "tags": []
          },
          "execution_count": 5
        }
      ]
    },
    {
      "cell_type": "markdown",
      "metadata": {
        "id": "E66jiCRj0fNr"
      },
      "source": [
        "## Exercícios\n",
        "\n",
        "Hora de praticar!\n",
        "\n",
        "<center><img width=\"50%\" src=\"https://image.freepik.com/free-photo/rear-view-programmer-working-all-night-long_1098-18697.jpg\n",
        "\"></center>"
      ]
    },
    {
      "cell_type": "markdown",
      "metadata": {
        "id": "FLz4DeLdS1mI"
      },
      "source": [
        "### Exercício 1\n",
        "Verifique se a expressão $2^4$ é igual a $16$:"
      ]
    },
    {
      "cell_type": "code",
      "metadata": {
        "id": "v42fI7p10rN2",
        "colab": {
          "base_uri": "https://localhost:8080/"
        },
        "outputId": "36efa599-b480-48b0-b1eb-c475be6a8375"
      },
      "source": [
        "# resposta\n",
        "2**4==16"
      ],
      "execution_count": 6,
      "outputs": [
        {
          "output_type": "execute_result",
          "data": {
            "text/plain": [
              "True"
            ]
          },
          "metadata": {
            "tags": []
          },
          "execution_count": 6
        }
      ]
    },
    {
      "cell_type": "code",
      "metadata": {
        "id": "WSALYjuLTAf0",
        "cellView": "form",
        "colab": {
          "base_uri": "https://localhost:8080/"
        },
        "outputId": "a9f1d51d-26c8-4639-bc06-06b27cf1ce62"
      },
      "source": [
        "#@title Solução\n",
        "2**4 == 16"
      ],
      "execution_count": 7,
      "outputs": [
        {
          "output_type": "execute_result",
          "data": {
            "text/plain": [
              "True"
            ]
          },
          "metadata": {
            "tags": []
          },
          "execution_count": 7
        }
      ]
    },
    {
      "cell_type": "markdown",
      "metadata": {
        "id": "Ibl-Oekp0sIu"
      },
      "source": [
        "### Exercício 2\n",
        "Abaixo estão as notas de 3 provas de um estudante de ensino médio. Usando Operadores Lógicos e Operadores Relacionais, verifique se o mesmo foi aprovado no semestre. A condição para aprovação é ter a média das notas maior ou igual a 7."
      ]
    },
    {
      "cell_type": "code",
      "metadata": {
        "id": "5Zk-Jfh61I7T",
        "colab": {
          "base_uri": "https://localhost:8080/"
        },
        "outputId": "2279bf08-f4cf-48b0-9906-0bf2d0dd95f1"
      },
      "source": [
        "nota_matematica = 7.0\n",
        "nota_ingles = 8.2\n",
        "nota_historia = 6.95\n",
        "\n",
        "# expressão para ver se o aluno foi aprovado\n",
        "(nota_matematica >= 7.0),(nota_ingles >=7),(nota_historia >= 7),(7 + 8.2 + 6.95/3>=7)"
      ],
      "execution_count": 38,
      "outputs": [
        {
          "output_type": "execute_result",
          "data": {
            "text/plain": [
              "(True, True, False, True)"
            ]
          },
          "metadata": {
            "tags": []
          },
          "execution_count": 38
        }
      ]
    },
    {
      "cell_type": "code",
      "metadata": {
        "id": "J_NgRQzuTpqU",
        "cellView": "form",
        "colab": {
          "base_uri": "https://localhost:8080/"
        },
        "outputId": "85ac6ffd-9d6f-42b9-ecde-9d60e0036b84"
      },
      "source": [
        "#@title Solução\n",
        "print(nota_matematica >= 7)\n",
        "print(nota_ingles >= 7)\n",
        "print(nota_historia >= 7)\n",
        "\n",
        "# verificar média geral\n",
        "print((nota_matematica + nota_ingles + nota_historia) / 3 >= 7)"
      ],
      "execution_count": 9,
      "outputs": [
        {
          "output_type": "stream",
          "text": [
            "True\n",
            "True\n",
            "False\n",
            "True\n"
          ],
          "name": "stdout"
        }
      ]
    },
    {
      "cell_type": "markdown",
      "metadata": {
        "id": "8rDwbKBIX43j"
      },
      "source": [
        "### Exercício 3\n",
        "Usando operadores lógicos e matemáticos, verifique se João pode tirar carteira de motorista, sabendo que a idade mínima para isso é 18 anos de idade, e que custa R$1.000,00"
      ]
    },
    {
      "cell_type": "code",
      "metadata": {
        "id": "n7EIGnWOUBtc",
        "colab": {
          "base_uri": "https://localhost:8080/"
        },
        "outputId": "9ab187a8-276e-4298-9a07-dd3537032a6a"
      },
      "source": [
        "# dados do João\n",
        "idade = 19\n",
        "saldo = 1500\n",
        "(idade>=18) and  (saldo>=1000)"
      ],
      "execution_count": 33,
      "outputs": [
        {
          "output_type": "execute_result",
          "data": {
            "text/plain": [
              "True"
            ]
          },
          "metadata": {
            "tags": []
          },
          "execution_count": 33
        }
      ]
    },
    {
      "cell_type": "code",
      "metadata": {
        "id": "8umykNt1YZHT",
        "colab": {
          "base_uri": "https://localhost:8080/"
        },
        "outputId": "1cbc1fe9-6121-45e5-fde3-3c65cbaee009"
      },
      "source": [
        "# resposta\n",
        "(idade>=18) and  (saldo>=1000)"
      ],
      "execution_count": 36,
      "outputs": [
        {
          "output_type": "execute_result",
          "data": {
            "text/plain": [
              "True"
            ]
          },
          "metadata": {
            "tags": []
          },
          "execution_count": 36
        }
      ]
    },
    {
      "cell_type": "code",
      "metadata": {
        "id": "YtEQ9n8qYa0t",
        "cellView": "form",
        "colab": {
          "base_uri": "https://localhost:8080/"
        },
        "outputId": "4db5279e-43d8-4e9c-8766-9f89b65fd360"
      },
      "source": [
        "#@title Solução\n",
        "idade >= 18 and saldo >= 1000"
      ],
      "execution_count": 37,
      "outputs": [
        {
          "output_type": "execute_result",
          "data": {
            "text/plain": [
              "True"
            ]
          },
          "metadata": {
            "tags": []
          },
          "execution_count": 37
        }
      ]
    },
    {
      "cell_type": "code",
      "metadata": {
        "id": "5H04dFb1Yg2v"
      },
      "source": [
        ""
      ],
      "execution_count": 37,
      "outputs": []
    }
  ]
}